{
 "cells": [
  {
   "cell_type": "code",
   "execution_count": 1,
   "metadata": {},
   "outputs": [],
   "source": [
    "import numpy as np\n",
    "import pandas as pd\n",
    "import datetime\n",
    "import time"
   ]
  },
  {
   "cell_type": "code",
   "execution_count": 2,
   "metadata": {
    "scrolled": false
   },
   "outputs": [
    {
     "name": "stdout",
     "output_type": "stream",
     "text": [
      "Index(['LineNumber', 'direction', 'DateName', 'DayNameOfWeek',\n",
      "       'planed_departure', 'StopPointName', 'BKVehicleID',\n",
      "       'scheduled_arrival_time', 'observed_arrival_time',\n",
      "       'scheduled_departure_time', 'observed_departure_time', 'DwellTime',\n",
      "       'StopTime', 'Boardings', 'Alightings', 'CurrentLoad', 'CoveredDistance',\n",
      "       'RunTime'],\n",
      "      dtype='object') LineNumber                    int64\n",
      "direction                    object\n",
      "DateName                     object\n",
      "DayNameOfWeek                object\n",
      "planed_departure             object\n",
      "StopPointName                object\n",
      "BKVehicleID                   int64\n",
      "scheduled_arrival_time       object\n",
      "observed_arrival_time        object\n",
      "scheduled_departure_time     object\n",
      "observed_departure_time      object\n",
      "DwellTime                     int64\n",
      "StopTime                      int64\n",
      "Boardings                   float64\n",
      "Alightings                  float64\n",
      "CurrentLoad                 float64\n",
      "CoveredDistance               int64\n",
      "RunTime                       int64\n",
      "dtype: object\n"
     ]
    }
   ],
   "source": [
    "df = pd.read_csv(\"additional_avl_data_all_in_one_file.csv\", sep=\";\")\n",
    "print(df.columns, df.dtypes)\n",
    "\n",
    "df = df[df.scheduled_arrival_time != \"Okänd\"]\n",
    "df = df[df.observed_arrival_time != \"Okänd\"]"
   ]
  },
  {
   "cell_type": "code",
   "execution_count": 3,
   "metadata": {},
   "outputs": [],
   "source": [
    "def timestamp_to_second(timestr):\n",
    "    x = time.strptime(timestr, '%H:%M:%S')\n",
    "    a = datetime.timedelta(hours=x.tm_hour,minutes=x.tm_min,seconds=x.tm_sec).total_seconds()\n",
    "    return a"
   ]
  },
  {
   "cell_type": "code",
   "execution_count": 4,
   "metadata": {},
   "outputs": [],
   "source": [
    "route_map = {}\n",
    "routes = df['direction'].unique()\n",
    "\n",
    "for route in routes:\n",
    "    start_point = route.split(\"-\")[0].strip()\n",
    "    start_point = \" \".join(elem for elem in start_point.split(\" \")[1:])\n",
    "    route_map[route] = {'start':  start_point, start_point: 0, 'num_stops': 0}"
   ]
  },
  {
   "cell_type": "code",
   "execution_count": 5,
   "metadata": {},
   "outputs": [],
   "source": [
    "counter = []\n",
    "\n",
    "for stop, route in zip(*(df['StopPointName'], df['direction'])):\n",
    "    \n",
    "    if stop not in route_map[route]:\n",
    "        route_map[route]['num_stops'] += 1\n",
    "        route_map[route][stop] = route_map[route]['num_stops']\n",
    "        \n",
    "    counter.append(route_map[route][stop])"
   ]
  },
  {
   "cell_type": "code",
   "execution_count": 9,
   "metadata": {},
   "outputs": [],
   "source": [
    "df['counter'] = counter"
   ]
  },
  {
   "cell_type": "code",
   "execution_count": 7,
   "metadata": {},
   "outputs": [],
   "source": [
    "df['scheduled_departure_time'] = df['scheduled_departure_time'].apply(timestamp_to_second)\n",
    "df['observed_departure_time'] = df['observed_departure_time'].apply(timestamp_to_second)\n",
    "df['scheduled_arrival_time'] = df['scheduled_arrival_time'].apply(timestamp_to_second)\n",
    "df['observed_arrival_time'] = df['observed_arrival_time'].apply(timestamp_to_second)"
   ]
  },
  {
   "cell_type": "code",
   "execution_count": 10,
   "metadata": {},
   "outputs": [
    {
     "data": {
      "text/html": [
       "<div>\n",
       "<style scoped>\n",
       "    .dataframe tbody tr th:only-of-type {\n",
       "        vertical-align: middle;\n",
       "    }\n",
       "\n",
       "    .dataframe tbody tr th {\n",
       "        vertical-align: top;\n",
       "    }\n",
       "\n",
       "    .dataframe thead th {\n",
       "        text-align: right;\n",
       "    }\n",
       "</style>\n",
       "<table border=\"1\" class=\"dataframe\">\n",
       "  <thead>\n",
       "    <tr style=\"text-align: right;\">\n",
       "      <th></th>\n",
       "      <th>LineNumber</th>\n",
       "      <th>direction</th>\n",
       "      <th>DateName</th>\n",
       "      <th>DayNameOfWeek</th>\n",
       "      <th>planed_departure</th>\n",
       "      <th>StopPointName</th>\n",
       "      <th>BKVehicleID</th>\n",
       "      <th>scheduled_arrival_time</th>\n",
       "      <th>observed_arrival_time</th>\n",
       "      <th>scheduled_departure_time</th>\n",
       "      <th>observed_departure_time</th>\n",
       "      <th>DwellTime</th>\n",
       "      <th>StopTime</th>\n",
       "      <th>Boardings</th>\n",
       "      <th>Alightings</th>\n",
       "      <th>CurrentLoad</th>\n",
       "      <th>CoveredDistance</th>\n",
       "      <th>RunTime</th>\n",
       "      <th>counter</th>\n",
       "    </tr>\n",
       "  </thead>\n",
       "  <tbody>\n",
       "    <tr>\n",
       "      <th>0</th>\n",
       "      <td>1</td>\n",
       "      <td>1 Frihamnen - Essingetorget</td>\n",
       "      <td>14-Mar-2016</td>\n",
       "      <td>Måndag</td>\n",
       "      <td>00:05:00</td>\n",
       "      <td>Frihamnen</td>\n",
       "      <td>104028</td>\n",
       "      <td>300.0</td>\n",
       "      <td>333.0</td>\n",
       "      <td>300.0</td>\n",
       "      <td>333.0</td>\n",
       "      <td>0</td>\n",
       "      <td>0</td>\n",
       "      <td>NaN</td>\n",
       "      <td>NaN</td>\n",
       "      <td>NaN</td>\n",
       "      <td>0</td>\n",
       "      <td>0</td>\n",
       "      <td>0</td>\n",
       "    </tr>\n",
       "    <tr>\n",
       "      <th>1</th>\n",
       "      <td>1</td>\n",
       "      <td>1 Frihamnen - Essingetorget</td>\n",
       "      <td>14-Mar-2016</td>\n",
       "      <td>Måndag</td>\n",
       "      <td>00:05:00</td>\n",
       "      <td>Frihamnsporten</td>\n",
       "      <td>104028</td>\n",
       "      <td>356.0</td>\n",
       "      <td>398.0</td>\n",
       "      <td>356.0</td>\n",
       "      <td>398.0</td>\n",
       "      <td>0</td>\n",
       "      <td>0</td>\n",
       "      <td>NaN</td>\n",
       "      <td>NaN</td>\n",
       "      <td>NaN</td>\n",
       "      <td>363</td>\n",
       "      <td>65</td>\n",
       "      <td>1</td>\n",
       "    </tr>\n",
       "    <tr>\n",
       "      <th>2</th>\n",
       "      <td>1</td>\n",
       "      <td>1 Frihamnen - Essingetorget</td>\n",
       "      <td>14-Mar-2016</td>\n",
       "      <td>Måndag</td>\n",
       "      <td>00:05:00</td>\n",
       "      <td>Sehlstedtsgatan</td>\n",
       "      <td>104028</td>\n",
       "      <td>382.0</td>\n",
       "      <td>425.0</td>\n",
       "      <td>382.0</td>\n",
       "      <td>425.0</td>\n",
       "      <td>0</td>\n",
       "      <td>0</td>\n",
       "      <td>NaN</td>\n",
       "      <td>NaN</td>\n",
       "      <td>NaN</td>\n",
       "      <td>169</td>\n",
       "      <td>27</td>\n",
       "      <td>2</td>\n",
       "    </tr>\n",
       "    <tr>\n",
       "      <th>3</th>\n",
       "      <td>1</td>\n",
       "      <td>1 Frihamnen - Essingetorget</td>\n",
       "      <td>14-Mar-2016</td>\n",
       "      <td>Måndag</td>\n",
       "      <td>00:05:00</td>\n",
       "      <td>Östhammarsgatan</td>\n",
       "      <td>104028</td>\n",
       "      <td>417.0</td>\n",
       "      <td>465.0</td>\n",
       "      <td>417.0</td>\n",
       "      <td>465.0</td>\n",
       "      <td>0</td>\n",
       "      <td>0</td>\n",
       "      <td>NaN</td>\n",
       "      <td>NaN</td>\n",
       "      <td>NaN</td>\n",
       "      <td>222</td>\n",
       "      <td>40</td>\n",
       "      <td>3</td>\n",
       "    </tr>\n",
       "    <tr>\n",
       "      <th>4</th>\n",
       "      <td>1</td>\n",
       "      <td>1 Frihamnen - Essingetorget</td>\n",
       "      <td>14-Mar-2016</td>\n",
       "      <td>Måndag</td>\n",
       "      <td>00:05:00</td>\n",
       "      <td>Rökubbsgatan</td>\n",
       "      <td>104028</td>\n",
       "      <td>465.0</td>\n",
       "      <td>516.0</td>\n",
       "      <td>465.0</td>\n",
       "      <td>526.0</td>\n",
       "      <td>0</td>\n",
       "      <td>10</td>\n",
       "      <td>NaN</td>\n",
       "      <td>NaN</td>\n",
       "      <td>NaN</td>\n",
       "      <td>303</td>\n",
       "      <td>51</td>\n",
       "      <td>4</td>\n",
       "    </tr>\n",
       "  </tbody>\n",
       "</table>\n",
       "</div>"
      ],
      "text/plain": [
       "   LineNumber                    direction     DateName DayNameOfWeek  \\\n",
       "0           1  1 Frihamnen - Essingetorget  14-Mar-2016        Måndag   \n",
       "1           1  1 Frihamnen - Essingetorget  14-Mar-2016        Måndag   \n",
       "2           1  1 Frihamnen - Essingetorget  14-Mar-2016        Måndag   \n",
       "3           1  1 Frihamnen - Essingetorget  14-Mar-2016        Måndag   \n",
       "4           1  1 Frihamnen - Essingetorget  14-Mar-2016        Måndag   \n",
       "\n",
       "  planed_departure    StopPointName  BKVehicleID  scheduled_arrival_time  \\\n",
       "0         00:05:00        Frihamnen       104028                   300.0   \n",
       "1         00:05:00   Frihamnsporten       104028                   356.0   \n",
       "2         00:05:00  Sehlstedtsgatan       104028                   382.0   \n",
       "3         00:05:00  Östhammarsgatan       104028                   417.0   \n",
       "4         00:05:00     Rökubbsgatan       104028                   465.0   \n",
       "\n",
       "   observed_arrival_time  scheduled_departure_time  observed_departure_time  \\\n",
       "0                  333.0                     300.0                    333.0   \n",
       "1                  398.0                     356.0                    398.0   \n",
       "2                  425.0                     382.0                    425.0   \n",
       "3                  465.0                     417.0                    465.0   \n",
       "4                  516.0                     465.0                    526.0   \n",
       "\n",
       "   DwellTime  StopTime  Boardings  Alightings  CurrentLoad  CoveredDistance  \\\n",
       "0          0         0        NaN         NaN          NaN                0   \n",
       "1          0         0        NaN         NaN          NaN              363   \n",
       "2          0         0        NaN         NaN          NaN              169   \n",
       "3          0         0        NaN         NaN          NaN              222   \n",
       "4          0        10        NaN         NaN          NaN              303   \n",
       "\n",
       "   RunTime  counter  \n",
       "0        0        0  \n",
       "1       65        1  \n",
       "2       27        2  \n",
       "3       40        3  \n",
       "4       51        4  "
      ]
     },
     "execution_count": 10,
     "metadata": {},
     "output_type": "execute_result"
    }
   ],
   "source": [
    "df.head()"
   ]
  },
  {
   "cell_type": "code",
   "execution_count": 15,
   "metadata": {},
   "outputs": [],
   "source": [
    "df['CurrentLoad'] = df['CurrentLoad'].fillna(df['CurrentLoad'].median())"
   ]
  },
  {
   "cell_type": "code",
   "execution_count": 16,
   "metadata": {},
   "outputs": [],
   "source": [
    "df_train = pd.DataFrame(columns=df.columns)\n",
    "df_test = pd.DataFrame(columns=df.columns)"
   ]
  },
  {
   "cell_type": "code",
   "execution_count": 17,
   "metadata": {},
   "outputs": [],
   "source": [
    "for line_num in df.LineNumber.unique():\n",
    "    df_subset = df[df.LineNumber == line_num]\n",
    "    \n",
    "    df_subset_tr = df[(df.scheduled_departure_time >= 28800) & (df.scheduled_departure_time <= 36000)]\n",
    "    df_subset_test = df[(df.scheduled_departure_time >= 57600) & (df.scheduled_departure_time <= 61200)]\n",
    "    \n",
    "    train_samples = df_subset_tr.sample(n=4, axis=0)\n",
    "    test_samples = df_subset_tr.sample(n=2, axis=0)\n",
    "    df_train = df_train.append(train_samples)\n",
    "    df_test = df_test.append(test_samples)"
   ]
  },
  {
   "cell_type": "code",
   "execution_count": 18,
   "metadata": {},
   "outputs": [
    {
     "data": {
      "text/html": [
       "<div>\n",
       "<style scoped>\n",
       "    .dataframe tbody tr th:only-of-type {\n",
       "        vertical-align: middle;\n",
       "    }\n",
       "\n",
       "    .dataframe tbody tr th {\n",
       "        vertical-align: top;\n",
       "    }\n",
       "\n",
       "    .dataframe thead th {\n",
       "        text-align: right;\n",
       "    }\n",
       "</style>\n",
       "<table border=\"1\" class=\"dataframe\">\n",
       "  <thead>\n",
       "    <tr style=\"text-align: right;\">\n",
       "      <th></th>\n",
       "      <th>LineNumber</th>\n",
       "      <th>direction</th>\n",
       "      <th>DateName</th>\n",
       "      <th>DayNameOfWeek</th>\n",
       "      <th>planed_departure</th>\n",
       "      <th>StopPointName</th>\n",
       "      <th>BKVehicleID</th>\n",
       "      <th>scheduled_arrival_time</th>\n",
       "      <th>observed_arrival_time</th>\n",
       "      <th>scheduled_departure_time</th>\n",
       "      <th>observed_departure_time</th>\n",
       "      <th>DwellTime</th>\n",
       "      <th>StopTime</th>\n",
       "      <th>Boardings</th>\n",
       "      <th>Alightings</th>\n",
       "      <th>CurrentLoad</th>\n",
       "      <th>CoveredDistance</th>\n",
       "      <th>RunTime</th>\n",
       "      <th>counter</th>\n",
       "    </tr>\n",
       "  </thead>\n",
       "  <tbody>\n",
       "    <tr>\n",
       "      <th>2641381</th>\n",
       "      <td>76</td>\n",
       "      <td>2 Ljusterögatan - Ropsten</td>\n",
       "      <td>14-Apr-2016</td>\n",
       "      <td>Torsdag</td>\n",
       "      <td>08:57:00</td>\n",
       "      <td>Djurgårdsbron</td>\n",
       "      <td>107530</td>\n",
       "      <td>33511.0</td>\n",
       "      <td>33747.0</td>\n",
       "      <td>33511.0</td>\n",
       "      <td>33768.0</td>\n",
       "      <td>0</td>\n",
       "      <td>21</td>\n",
       "      <td>NaN</td>\n",
       "      <td>NaN</td>\n",
       "      <td>14.0</td>\n",
       "      <td>409</td>\n",
       "      <td>45</td>\n",
       "      <td>12</td>\n",
       "    </tr>\n",
       "    <tr>\n",
       "      <th>2041080</th>\n",
       "      <td>55</td>\n",
       "      <td>1 Motalavägen - Tanto</td>\n",
       "      <td>07-Apr-2016</td>\n",
       "      <td>Torsdag</td>\n",
       "      <td>08:24:00</td>\n",
       "      <td>Ropsten</td>\n",
       "      <td>107471</td>\n",
       "      <td>30565.0</td>\n",
       "      <td>30531.0</td>\n",
       "      <td>30565.0</td>\n",
       "      <td>30555.0</td>\n",
       "      <td>0</td>\n",
       "      <td>24</td>\n",
       "      <td>4.0</td>\n",
       "      <td>1.0</td>\n",
       "      <td>14.0</td>\n",
       "      <td>693</td>\n",
       "      <td>105</td>\n",
       "      <td>5</td>\n",
       "    </tr>\n",
       "    <tr>\n",
       "      <th>2083247</th>\n",
       "      <td>55</td>\n",
       "      <td>2 Tanto - Motalavägen</td>\n",
       "      <td>16-Mar-2016</td>\n",
       "      <td>Onsdag</td>\n",
       "      <td>08:04:00</td>\n",
       "      <td>Timmermansgränd</td>\n",
       "      <td>107485</td>\n",
       "      <td>29341.0</td>\n",
       "      <td>29349.0</td>\n",
       "      <td>29341.0</td>\n",
       "      <td>29369.0</td>\n",
       "      <td>0</td>\n",
       "      <td>20</td>\n",
       "      <td>NaN</td>\n",
       "      <td>NaN</td>\n",
       "      <td>14.0</td>\n",
       "      <td>286</td>\n",
       "      <td>48</td>\n",
       "      <td>4</td>\n",
       "    </tr>\n",
       "    <tr>\n",
       "      <th>2425062</th>\n",
       "      <td>67</td>\n",
       "      <td>2 Skansen - Frösundavik</td>\n",
       "      <td>17-Mar-2016</td>\n",
       "      <td>Torsdag</td>\n",
       "      <td>08:37:00</td>\n",
       "      <td>Solna stadshus</td>\n",
       "      <td>104055</td>\n",
       "      <td>33060.0</td>\n",
       "      <td>33420.0</td>\n",
       "      <td>33060.0</td>\n",
       "      <td>33439.0</td>\n",
       "      <td>0</td>\n",
       "      <td>19</td>\n",
       "      <td>0.0</td>\n",
       "      <td>2.0</td>\n",
       "      <td>14.0</td>\n",
       "      <td>283</td>\n",
       "      <td>43</td>\n",
       "      <td>22</td>\n",
       "    </tr>\n",
       "    <tr>\n",
       "      <th>2556295</th>\n",
       "      <td>76</td>\n",
       "      <td>1 Ropsten - Ljusterögatan</td>\n",
       "      <td>13-Apr-2016</td>\n",
       "      <td>Onsdag</td>\n",
       "      <td>09:12:00</td>\n",
       "      <td>Berwaldhallen</td>\n",
       "      <td>105393</td>\n",
       "      <td>33959.0</td>\n",
       "      <td>33897.0</td>\n",
       "      <td>33959.0</td>\n",
       "      <td>33897.0</td>\n",
       "      <td>0</td>\n",
       "      <td>0</td>\n",
       "      <td>NaN</td>\n",
       "      <td>NaN</td>\n",
       "      <td>14.0</td>\n",
       "      <td>267</td>\n",
       "      <td>37</td>\n",
       "      <td>12</td>\n",
       "    </tr>\n",
       "  </tbody>\n",
       "</table>\n",
       "</div>"
      ],
      "text/plain": [
       "        LineNumber                  direction     DateName DayNameOfWeek  \\\n",
       "2641381         76  2 Ljusterögatan - Ropsten  14-Apr-2016       Torsdag   \n",
       "2041080         55      1 Motalavägen - Tanto  07-Apr-2016       Torsdag   \n",
       "2083247         55      2 Tanto - Motalavägen  16-Mar-2016        Onsdag   \n",
       "2425062         67    2 Skansen - Frösundavik  17-Mar-2016       Torsdag   \n",
       "2556295         76  1 Ropsten - Ljusterögatan  13-Apr-2016        Onsdag   \n",
       "\n",
       "        planed_departure    StopPointName BKVehicleID  scheduled_arrival_time  \\\n",
       "2641381         08:57:00    Djurgårdsbron      107530                 33511.0   \n",
       "2041080         08:24:00          Ropsten      107471                 30565.0   \n",
       "2083247         08:04:00  Timmermansgränd      107485                 29341.0   \n",
       "2425062         08:37:00   Solna stadshus      104055                 33060.0   \n",
       "2556295         09:12:00    Berwaldhallen      105393                 33959.0   \n",
       "\n",
       "         observed_arrival_time  scheduled_departure_time  \\\n",
       "2641381                33747.0                   33511.0   \n",
       "2041080                30531.0                   30565.0   \n",
       "2083247                29349.0                   29341.0   \n",
       "2425062                33420.0                   33060.0   \n",
       "2556295                33897.0                   33959.0   \n",
       "\n",
       "         observed_departure_time DwellTime StopTime  Boardings  Alightings  \\\n",
       "2641381                  33768.0         0       21        NaN         NaN   \n",
       "2041080                  30555.0         0       24        4.0         1.0   \n",
       "2083247                  29369.0         0       20        NaN         NaN   \n",
       "2425062                  33439.0         0       19        0.0         2.0   \n",
       "2556295                  33897.0         0        0        NaN         NaN   \n",
       "\n",
       "         CurrentLoad CoveredDistance RunTime counter  \n",
       "2641381         14.0             409      45      12  \n",
       "2041080         14.0             693     105       5  \n",
       "2083247         14.0             286      48       4  \n",
       "2425062         14.0             283      43      22  \n",
       "2556295         14.0             267      37      12  "
      ]
     },
     "execution_count": 18,
     "metadata": {},
     "output_type": "execute_result"
    }
   ],
   "source": [
    "df_train.head()"
   ]
  },
  {
   "cell_type": "code",
   "execution_count": 19,
   "metadata": {},
   "outputs": [
    {
     "name": "stdout",
     "output_type": "stream",
     "text": [
      "(44,) (44,) (44,)\n",
      "(22,) (22,) (22,)\n"
     ]
    }
   ],
   "source": [
    "delay_train = (df_train['observed_arrival_time'] - df_train['scheduled_arrival_time']).to_numpy()\n",
    "load_train = df_train['CurrentLoad'].to_numpy()\n",
    "stops_train = df_train['counter'].to_numpy()\n",
    "\n",
    "delay_test = (df_test['observed_arrival_time'] - df_test['scheduled_arrival_time']).to_numpy()\n",
    "load_test = df_test['CurrentLoad'].to_numpy()\n",
    "stops_test = df_test['counter'].to_numpy()\n",
    "\n",
    "print(delay_train.shape, load_train.shape, stops_train.shape)\n",
    "print(delay_test.shape, load_test.shape, stops_test.shape)"
   ]
  },
  {
   "cell_type": "code",
   "execution_count": 20,
   "metadata": {},
   "outputs": [
    {
     "data": {
      "text/plain": [
       "((44, 4), (44, 1))"
      ]
     },
     "execution_count": 20,
     "metadata": {},
     "output_type": "execute_result"
    }
   ],
   "source": [
    "X_train = np.concatenate([delay_train.reshape(-1, 1), load_train.reshape(-1, 1), stops_train.reshape(-1, 1)], axis=-1)\n",
    "X_train = np.concatenate([np.ones((len(X_train), 1)), X_train], axis=-1).astype(float)\n",
    "\n",
    "y_train = df_train['CoveredDistance'].to_numpy().reshape(-1, 1)\n",
    "X_train.shape, y_train.shape"
   ]
  },
  {
   "cell_type": "code",
   "execution_count": 21,
   "metadata": {},
   "outputs": [
    {
     "data": {
      "text/plain": [
       "((22, 4), (22, 1))"
      ]
     },
     "execution_count": 21,
     "metadata": {},
     "output_type": "execute_result"
    }
   ],
   "source": [
    "X_test = np.concatenate([delay_test.reshape(-1, 1), load_test.reshape(-1, 1), stops_test.reshape(-1, 1)], axis=-1)\n",
    "X_test = np.concatenate([np.ones((len(X_test), 1)), X_test], axis=-1).astype(float)\n",
    "\n",
    "y_test = df_test['CoveredDistance'].to_numpy().reshape(-1, 1)\n",
    "X_test.shape, y_test.shape"
   ]
  },
  {
   "cell_type": "code",
   "execution_count": 22,
   "metadata": {},
   "outputs": [],
   "source": [
    "from sklearn.preprocessing import MinMaxScaler\n",
    "\n",
    "scaler = MinMaxScaler()\n",
    "\n",
    "X_train_t = scaler.fit_transform(X_train)\n",
    "X_test_t = scaler.transform(X_test)"
   ]
  },
  {
   "cell_type": "code",
   "execution_count": 23,
   "metadata": {},
   "outputs": [
    {
     "name": "stdout",
     "output_type": "stream",
     "text": [
      "(4, 1) (4, 1)\n"
     ]
    }
   ],
   "source": [
    "W_opt = np.linalg.pinv(X_train).dot(y_train)\n",
    "W_opt_minmax = np.linalg.pinv(X_train_t).dot(y_train)\n",
    "\n",
    "print(W_opt.shape, W_opt_minmax.shape)"
   ]
  },
  {
   "cell_type": "code",
   "execution_count": 24,
   "metadata": {},
   "outputs": [],
   "source": [
    "y_pred = X_test.dot(W_opt)\n",
    "y_pred_minmax = X_test_t.dot(W_opt_minmax)"
   ]
  },
  {
   "cell_type": "code",
   "execution_count": 25,
   "metadata": {},
   "outputs": [
    {
     "name": "stdout",
     "output_type": "stream",
     "text": [
      "29957.398866694126 51049.2156496279\n"
     ]
    }
   ],
   "source": [
    "from sklearn.metrics import mean_squared_error\n",
    "\n",
    "mse = mean_squared_error(y_pred=y_pred, y_true=y_test)\n",
    "mse_minmax = mean_squared_error(y_pred=y_pred_minmax, y_true=y_test)\n",
    "\n",
    "print(mse, mse_minmax)"
   ]
  },
  {
   "cell_type": "code",
   "execution_count": null,
   "metadata": {},
   "outputs": [],
   "source": []
  }
 ],
 "metadata": {
  "kernelspec": {
   "display_name": "Python 3",
   "language": "python",
   "name": "python3"
  },
  "language_info": {
   "codemirror_mode": {
    "name": "ipython",
    "version": 3
   },
   "file_extension": ".py",
   "mimetype": "text/x-python",
   "name": "python",
   "nbconvert_exporter": "python",
   "pygments_lexer": "ipython3",
   "version": "3.7.1"
  }
 },
 "nbformat": 4,
 "nbformat_minor": 2
}
